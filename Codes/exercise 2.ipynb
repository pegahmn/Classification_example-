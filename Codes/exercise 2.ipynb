{
 "cells": [
  {
   "cell_type": "code",
   "execution_count": 2,
   "id": "58ff4fd0",
   "metadata": {},
   "outputs": [],
   "source": [
    "import pandas as pd \n",
    "import numpy as np \n",
    "\n",
    "from sklearn import datasets, svm \n",
    "from sklearn.preprocessing import StandardScaler\n",
    "from sklearn.metrics import confusion_matrix, accuracy_score, recall_score, f1_score, precision_score\n",
    "from sklearn.tree import DecisionTreeClassifier\n",
    "from sklearn.ensemble import RandomForestClassifier\n",
    "from sklearn.neighbors import KNeighborsClassifier\n",
    "\n",
    "from sklearn.model_selection import cross_val_score, train_test_split, cross_validate \n"
   ]
  },
  {
   "cell_type": "code",
   "execution_count": 3,
   "id": "491c9dea",
   "metadata": {},
   "outputs": [],
   "source": [
    "Parkinson= pd.read_csv(r\"C:\\Users\\rcc\\Desktop\\Courses\\Data Science\\DataMining\\pd_speech_features.csv\")\n",
    "#Parkinson"
   ]
  },
  {
   "cell_type": "code",
   "execution_count": 4,
   "id": "10b19323",
   "metadata": {},
   "outputs": [],
   "source": [
    "Parkinson.rename(columns=Parkinson.iloc[0], inplace=True)\n",
    "Parkinson.drop(labels=0, axis=0, inplace=True)\n",
    "#Parkinson"
   ]
  },
  {
   "cell_type": "code",
   "execution_count": 57,
   "id": "6b5a6e9d",
   "metadata": {},
   "outputs": [],
   "source": [
    "X=Parkinson.drop(['class'], axis=1)\n",
    "X=StandardScaler().fit_transform(X)\n",
    "\n",
    "X_train, X_test, y_train, y_test=train_test_split(X, Parkinson['class'], test_size=0.3, shuffle =True)\n",
    "\n",
    "DT=DecisionTreeClassifier()\n",
    "knn=KNeighborsClassifier(n_neighbors=1)\n",
    "clf=svm.SVC()\n",
    "randomf=RandomForestClassifier()\n",
    "\n",
    "dt_cross_val_score = cross_val_score(DT, X_train, y_train, cv=10, scoring='accuracy').mean()\n",
    "knn_cross_val_score = cross_val_score(knn, X_train, y_train, cv=10, scoring='accuracy').mean()\n",
    "svm_cross_val_score = cross_val_score(clf, X_train, y_train, cv=10, scoring='accuracy').mean()\n",
    "randf_cross_val_score = cross_val_score(randomf, X_train, y_train, cv=10, scoring='accuracy').mean()\n",
    "\n"
   ]
  },
  {
   "cell_type": "code",
   "execution_count": 58,
   "id": "10493e1a",
   "metadata": {},
   "outputs": [
    {
     "name": "stdout",
     "output_type": "stream",
     "text": [
      "DecisionTree :  0.7929515418502202\n",
      "KNeighbors :  0.9251101321585903\n",
      "SVM :  0.8722466960352423\n",
      "Random Forest :  0.8766519823788547\n"
     ]
    }
   ],
   "source": [
    "model_dt=DT.fit(X_train, y_train)\n",
    "pr_y_dt=model_dt.predict(X_test)\n",
    "dt_score=accuracy_score(y_test, pr_y_dt)\n",
    "print('DecisionTree : ', dt_score)\n",
    "\n",
    "model_knn=knn.fit(X_train, y_train)\n",
    "pr_y_knn=model_knn.predict(X_test)\n",
    "knn_score=accuracy_score(y_test, pr_y_knn)\n",
    "print('KNeighbors : ', knn_score)\n",
    "\n",
    "\n",
    "model_clf=clf.fit(X_train, y_train)\n",
    "pr_y_clf=model_clf.predict(X_test)\n",
    "svm_score=accuracy_score(y_test, pr_y_clf)\n",
    "print('SVM : ', svm_score)\n",
    "\n",
    "model_f=randomf.fit(X_train, y_train)\n",
    "pr_y_f=model_f.predict(X_test)\n",
    "randf_score=accuracy_score(y_test, pr_y_f)\n",
    "print('Random Forest : ', randf_score)"
   ]
  },
  {
   "cell_type": "code",
   "execution_count": 60,
   "id": "2935b0e7",
   "metadata": {},
   "outputs": [
    {
     "name": "stdout",
     "output_type": "stream",
     "text": [
      "+---------------+--------------------+--------------------+\n",
      "|     Model     |        Test        |  Cross Validation  |\n",
      "+---------------+--------------------+--------------------+\n",
      "| Decision Tree | 0.7929515418502202 | 0.7863933236574746 |\n",
      "|   KNeighbors  | 0.9251101321585903 | 0.8808417997097242 |\n",
      "|      SVM      | 0.8722466960352423 | 0.8392960812772134 |\n",
      "| Random Forest | 0.8766519823788547 | 0.8714441219158202 |\n",
      "+---------------+--------------------+--------------------+\n"
     ]
    }
   ],
   "source": [
    "from prettytable import PrettyTable\n",
    "\n",
    "mytable=PrettyTable([\"Model\", \"Test\", \"Cross Validation\"])\n",
    "\n",
    "mytable.add_row([\"Decision Tree\", dt_score, dt_cross_val_score]) #Decision Tree\n",
    "mytable.add_row([\"KNeighbors\", knn_score, knn_cross_val_score]) #Knn\n",
    "mytable.add_row([\"SVM\", svm_score, svm_cross_val_score]) #SVM\n",
    "mytable.add_row([\"Random Forest\", randf_score, randf_cross_val_score]) #Random Forest\n",
    "\n",
    "print(mytable)"
   ]
  },
  {
   "cell_type": "markdown",
   "id": "172a5fc0",
   "metadata": {},
   "source": [
    "PCA : "
   ]
  },
  {
   "cell_type": "code",
   "execution_count": 61,
   "id": "c2dad91d",
   "metadata": {},
   "outputs": [
    {
     "data": {
      "text/plain": [
       "(756, 755)"
      ]
     },
     "execution_count": 61,
     "metadata": {},
     "output_type": "execute_result"
    }
   ],
   "source": [
    "Parkinson.shape"
   ]
  },
  {
   "cell_type": "code",
   "execution_count": 62,
   "id": "5b851012",
   "metadata": {
    "scrolled": true
   },
   "outputs": [],
   "source": [
    "x=Parkinson.drop(['class'], axis=1).values\n",
    "y=Parkinson['class'].values\n",
    "\n",
    "x=StandardScaler().fit_transform(x)\n"
   ]
  },
  {
   "cell_type": "code",
   "execution_count": 75,
   "id": "77dbc399",
   "metadata": {},
   "outputs": [],
   "source": [
    "from sklearn.decomposition import PCA\n",
    "pca=PCA(n_components=600)\n",
    "pc=pca.fit_transform(x)\n",
    "principleDf = pd.DataFrame(data = pc)\n",
    "finalDf = pd.concat([principalDf, Parkinson[['class']]], axis = 1)\n",
    "#principalDf\n",
    "#finalDf"
   ]
  },
  {
   "cell_type": "code",
   "execution_count": 76,
   "id": "520d6cd3",
   "metadata": {},
   "outputs": [],
   "source": [
    "X_train, X_test, y_train, y_test=train_test_split(principleDf, Parkinson['class'], test_size=0.3, shuffle =True)\n",
    "\n",
    "DT=DecisionTreeClassifier()\n",
    "knn=KNeighborsClassifier(n_neighbors=1)\n",
    "clf=svm.SVC()\n",
    "randomf=RandomForestClassifier()\n",
    "\n",
    "dt_cross_val_score = cross_val_score(DT, X_train, y_train, cv=10, scoring='accuracy').mean()\n",
    "knn_cross_val_score = cross_val_score(knn, X_train, y_train, cv=10, scoring='accuracy').mean()\n",
    "svm_cross_val_score = cross_val_score(clf, X_train, y_train, cv=10, scoring='accuracy').mean()\n",
    "randf_cross_val_score = cross_val_score(randomf, X_train, y_train, cv=10, scoring='accuracy').mean()\n"
   ]
  },
  {
   "cell_type": "code",
   "execution_count": 77,
   "id": "52625545",
   "metadata": {},
   "outputs": [
    {
     "name": "stdout",
     "output_type": "stream",
     "text": [
      "DecisionTree :  0.7400881057268722\n",
      "KNeighbors :  0.8766519823788547\n",
      "SVM :  0.8414096916299559\n",
      "Random Forest :  0.7312775330396476\n"
     ]
    }
   ],
   "source": [
    "model_dt=DT.fit(X_train, y_train)\n",
    "pr_y_dt=model_dt.predict(X_test)\n",
    "dt_score=accuracy_score(y_test, pr_y_dt)\n",
    "print('DecisionTree : ', dt_score)\n",
    "\n",
    "model_knn=knn.fit(X_train, y_train)\n",
    "pr_y_knn=model_knn.predict(X_test)\n",
    "knn_score=accuracy_score(y_test, pr_y_knn)\n",
    "print('KNeighbors : ', knn_score)\n",
    "\n",
    "\n",
    "model_clf=clf.fit(X_train, y_train)\n",
    "pr_y_clf=model_clf.predict(X_test)\n",
    "svm_score=accuracy_score(y_test, pr_y_clf)\n",
    "print('SVM : ', svm_score)\n",
    "\n",
    "model_f=randomf.fit(X_train, y_train)\n",
    "pr_y_f=model_f.predict(X_test)\n",
    "randf_score=accuracy_score(y_test, pr_y_f)\n",
    "print('Random Forest : ', randf_score)"
   ]
  },
  {
   "cell_type": "code",
   "execution_count": 80,
   "id": "02127dbf",
   "metadata": {},
   "outputs": [
    {
     "name": "stdout",
     "output_type": "stream",
     "text": [
      "+---------------+--------------------+--------------------+\n",
      "|     Model     |        Test        |  Cross Validation  |\n",
      "+---------------+--------------------+--------------------+\n",
      "| Decision Tree | 0.7929515418502202 | 0.7863933236574746 |\n",
      "|   KNeighbors  | 0.9251101321585903 | 0.8808417997097242 |\n",
      "|      SVM      | 0.8722466960352423 | 0.8392960812772134 |\n",
      "| Random Forest | 0.8766519823788547 | 0.8714441219158202 |\n",
      "+---------------+--------------------+--------------------+\n",
      "PCA:\n",
      "+---------------+--------------------+--------------------+\n",
      "|     Model     |        Test        |  Cross Validation  |\n",
      "+---------------+--------------------+--------------------+\n",
      "| Decision Tree | 0.7400881057268722 | 0.7505442670537009 |\n",
      "|   KNeighbors  | 0.8766519823788547 | 0.8980043541364295 |\n",
      "|      SVM      | 0.8414096916299559 | 0.8601596516690856 |\n",
      "| Random Forest | 0.7312775330396476 | 0.7656386066763425 |\n",
      "+---------------+--------------------+--------------------+\n"
     ]
    }
   ],
   "source": [
    "pcatable=PrettyTable([\"Model\", \"Test\", \"Cross Validation\"])\n",
    "\n",
    "pcatable.add_row([\"Decision Tree\", dt_score, dt_cross_val_score]) #Decision Tree\n",
    "pcatable.add_row([\"KNeighbors\", knn_score, knn_cross_val_score]) #Knn\n",
    "pcatable.add_row([\"SVM\", svm_score, svm_cross_val_score]) #SVM\n",
    "pcatable.add_row([\"Random Forest\", randf_score, randf_cross_val_score]) #Random Forest\n",
    "\n",
    "print(mytable)\n",
    "print('PCA:')\n",
    "print(pcatable)\n"
   ]
  },
  {
   "cell_type": "code",
   "execution_count": 79,
   "id": "e3476636",
   "metadata": {},
   "outputs": [
    {
     "data": {
      "text/plain": [
       "array([1.29454976e-01, 9.37760529e-02, 8.24192308e-02, 4.28539557e-02,\n",
       "       3.56351444e-02, 2.99242112e-02, 2.50824799e-02, 2.21180224e-02,\n",
       "       2.03279452e-02, 1.82196851e-02, 1.76488762e-02, 1.49327491e-02,\n",
       "       1.30515359e-02, 1.27124275e-02, 1.26750015e-02, 1.16622745e-02,\n",
       "       1.06775083e-02, 1.05697041e-02, 9.48421376e-03, 9.34398602e-03,\n",
       "       8.66449092e-03, 8.05448612e-03, 7.61901716e-03, 7.38673120e-03,\n",
       "       6.67549083e-03, 6.26964003e-03, 6.23052889e-03, 6.08104267e-03,\n",
       "       5.86315236e-03, 5.58779428e-03, 5.26356127e-03, 5.21934024e-03,\n",
       "       4.98489713e-03, 4.81553014e-03, 4.69214631e-03, 4.57371606e-03,\n",
       "       4.41115975e-03, 4.15404515e-03, 4.02950197e-03, 3.80607551e-03,\n",
       "       3.77276286e-03, 3.68791950e-03, 3.60373335e-03, 3.50388844e-03,\n",
       "       3.46006388e-03, 3.41503829e-03, 3.35675339e-03, 3.14942597e-03,\n",
       "       3.12677726e-03, 3.05825352e-03, 2.99023563e-03, 2.96890565e-03,\n",
       "       2.91581397e-03, 2.84694559e-03, 2.83163250e-03, 2.77558530e-03,\n",
       "       2.72409644e-03, 2.67313407e-03, 2.58502110e-03, 2.56840747e-03,\n",
       "       2.51384495e-03, 2.49090097e-03, 2.45088194e-03, 2.40598002e-03,\n",
       "       2.32592194e-03, 2.31458939e-03, 2.27201901e-03, 2.24619812e-03,\n",
       "       2.22485635e-03, 2.20579768e-03, 2.20011180e-03, 2.12588015e-03,\n",
       "       2.11182544e-03, 2.08198961e-03, 2.04935115e-03, 2.01947702e-03,\n",
       "       1.96504809e-03, 1.93754869e-03, 1.92142622e-03, 1.90635514e-03,\n",
       "       1.90131246e-03, 1.86708789e-03, 1.83613639e-03, 1.82306349e-03,\n",
       "       1.81315809e-03, 1.79739355e-03, 1.75953479e-03, 1.73869954e-03,\n",
       "       1.70906195e-03, 1.70077371e-03, 1.69704445e-03, 1.69398402e-03,\n",
       "       1.67685833e-03, 1.63690526e-03, 1.60981820e-03, 1.59938162e-03,\n",
       "       1.58309014e-03, 1.56658107e-03, 1.56440184e-03, 1.55147800e-03,\n",
       "       1.52297594e-03, 1.49284644e-03, 1.48274905e-03, 1.45919422e-03,\n",
       "       1.43499668e-03, 1.43036525e-03, 1.40740604e-03, 1.37611679e-03,\n",
       "       1.37346203e-03, 1.36425194e-03, 1.35276333e-03, 1.34481438e-03,\n",
       "       1.32858241e-03, 1.30157832e-03, 1.29173635e-03, 1.27526497e-03,\n",
       "       1.26630146e-03, 1.24664008e-03, 1.22723833e-03, 1.22161933e-03,\n",
       "       1.21500251e-03, 1.19781891e-03, 1.18546673e-03, 1.17572472e-03,\n",
       "       1.16346853e-03, 1.15546605e-03, 1.14921030e-03, 1.12352426e-03,\n",
       "       1.10735046e-03, 1.09084873e-03, 1.07873126e-03, 1.07479725e-03,\n",
       "       1.04650221e-03, 1.04468545e-03, 1.03703528e-03, 1.03315522e-03,\n",
       "       1.01285493e-03, 1.01271937e-03, 1.00163167e-03, 9.77132611e-04,\n",
       "       9.70549892e-04, 9.68461175e-04, 9.64103987e-04, 9.50518637e-04,\n",
       "       9.42372372e-04, 9.29900660e-04, 9.28172667e-04, 9.21291683e-04,\n",
       "       9.06260344e-04, 8.96370292e-04, 8.76560881e-04, 8.70225177e-04,\n",
       "       8.67875813e-04, 8.52916768e-04, 8.43427536e-04, 8.30952114e-04,\n",
       "       8.20844661e-04, 8.13418709e-04, 8.07570013e-04, 7.87699300e-04,\n",
       "       7.83742306e-04, 7.82922837e-04, 7.79200939e-04, 7.65969122e-04,\n",
       "       7.50443941e-04, 7.45631520e-04, 7.35677690e-04, 7.21449066e-04,\n",
       "       7.12845806e-04, 7.02742542e-04, 6.95257049e-04, 6.85430288e-04,\n",
       "       6.76044745e-04, 6.62328772e-04, 6.51555947e-04, 6.47255903e-04,\n",
       "       6.40939754e-04, 6.36747314e-04, 6.32515574e-04, 6.28234001e-04,\n",
       "       6.16659156e-04, 6.07376530e-04, 6.03349266e-04, 5.93548676e-04,\n",
       "       5.89511725e-04, 5.77836526e-04, 5.74887071e-04, 5.66260525e-04,\n",
       "       5.59261878e-04, 5.57451323e-04, 5.52332433e-04, 5.40557461e-04,\n",
       "       5.25654087e-04, 5.19745900e-04, 5.17218360e-04, 5.05035151e-04,\n",
       "       5.01726424e-04, 4.95065828e-04, 4.87372298e-04, 4.82087525e-04,\n",
       "       4.77545789e-04, 4.68743909e-04, 4.67801266e-04, 4.63442283e-04,\n",
       "       4.50960235e-04, 4.45028950e-04, 4.39190211e-04, 4.36122303e-04,\n",
       "       4.29231400e-04, 4.17751591e-04, 4.12100061e-04, 4.09521399e-04,\n",
       "       4.07879149e-04, 3.99612882e-04, 3.98321500e-04, 3.84511763e-04,\n",
       "       3.81964781e-04, 3.77675174e-04, 3.72660325e-04, 3.70987272e-04,\n",
       "       3.62578302e-04, 3.55810924e-04, 3.53510843e-04, 3.47833211e-04,\n",
       "       3.39963741e-04, 3.38119124e-04, 3.31553728e-04, 3.26278490e-04,\n",
       "       3.21568482e-04, 3.17668165e-04, 3.10691390e-04, 3.08742926e-04,\n",
       "       3.02956508e-04, 2.98942845e-04, 2.93158282e-04, 2.85618177e-04,\n",
       "       2.83975155e-04, 2.78178243e-04, 2.76617577e-04, 2.67846876e-04,\n",
       "       2.67044056e-04, 2.63881602e-04, 2.59941585e-04, 2.57205297e-04,\n",
       "       2.49692113e-04, 2.47555233e-04, 2.44146622e-04, 2.39603435e-04,\n",
       "       2.36556616e-04, 2.32041337e-04, 2.31768194e-04, 2.24516107e-04,\n",
       "       2.21240217e-04, 2.19891479e-04, 2.16266149e-04, 2.13491658e-04,\n",
       "       2.10780397e-04, 2.08356827e-04, 2.03739025e-04, 2.01996953e-04,\n",
       "       2.00924561e-04, 1.98798135e-04, 1.92868474e-04, 1.88321327e-04,\n",
       "       1.86167168e-04, 1.82033448e-04, 1.81294676e-04, 1.77232006e-04,\n",
       "       1.75610262e-04, 1.74822124e-04, 1.69133355e-04, 1.66924327e-04,\n",
       "       1.62517671e-04, 1.59892211e-04, 1.58561144e-04, 1.56344946e-04,\n",
       "       1.48477358e-04, 1.47810393e-04, 1.43031091e-04, 1.41873361e-04,\n",
       "       1.40404078e-04, 1.39112876e-04, 1.38138185e-04, 1.36756513e-04,\n",
       "       1.33430339e-04, 1.31612165e-04, 1.29427938e-04, 1.26459439e-04,\n",
       "       1.24957571e-04, 1.24000997e-04, 1.22627758e-04, 1.21257343e-04,\n",
       "       1.16849913e-04, 1.16404797e-04, 1.13817915e-04, 1.12531991e-04,\n",
       "       1.12210289e-04, 1.09642097e-04, 1.09098490e-04, 1.05368099e-04,\n",
       "       1.04459600e-04, 1.02722371e-04, 1.01870553e-04, 9.97715585e-05,\n",
       "       9.69869410e-05, 9.64380184e-05, 9.57048885e-05, 9.37243674e-05,\n",
       "       9.09092796e-05, 8.88116257e-05, 8.80756319e-05, 8.69291841e-05,\n",
       "       8.53606355e-05, 8.29731934e-05, 8.27383344e-05, 8.15802622e-05,\n",
       "       8.08022903e-05, 7.87598123e-05, 7.69757794e-05, 7.54074047e-05,\n",
       "       7.39982651e-05, 7.27360034e-05, 7.18830955e-05, 7.06518439e-05,\n",
       "       6.82704412e-05, 6.71298451e-05, 6.59670669e-05, 6.43056526e-05,\n",
       "       6.39974594e-05, 6.37044363e-05, 6.26714675e-05, 6.15513393e-05,\n",
       "       6.09111264e-05, 5.88283977e-05, 5.84179070e-05, 5.76978214e-05,\n",
       "       5.59139226e-05, 5.49523542e-05, 5.45878777e-05, 5.35369484e-05,\n",
       "       5.17357334e-05, 5.12165494e-05, 5.09550134e-05, 4.91612511e-05,\n",
       "       4.88543243e-05, 4.83774798e-05, 4.76620161e-05, 4.73752011e-05,\n",
       "       4.65131343e-05, 4.51027989e-05, 4.45248945e-05, 4.39388208e-05,\n",
       "       4.36746840e-05, 4.24311406e-05, 4.20472079e-05, 4.09992197e-05,\n",
       "       3.98328993e-05, 3.93869407e-05, 3.85543868e-05, 3.81058049e-05,\n",
       "       3.77232381e-05, 3.73548091e-05, 3.63430272e-05, 3.59957139e-05,\n",
       "       3.53007433e-05, 3.50478660e-05, 3.36443484e-05, 3.34380478e-05,\n",
       "       3.31625644e-05, 3.25905987e-05, 3.18130909e-05, 3.13243682e-05,\n",
       "       3.10519796e-05, 3.02430315e-05, 2.95189994e-05, 2.89371222e-05,\n",
       "       2.85784457e-05, 2.84042197e-05, 2.74172755e-05, 2.70902084e-05,\n",
       "       2.64066404e-05, 2.57273776e-05, 2.56613846e-05, 2.52964188e-05,\n",
       "       2.47829490e-05, 2.45586467e-05, 2.43613663e-05, 2.38745837e-05,\n",
       "       2.34645863e-05, 2.28629859e-05, 2.24762439e-05, 2.20268218e-05,\n",
       "       2.16528224e-05, 2.15322086e-05, 2.13061666e-05, 2.06098667e-05,\n",
       "       2.05205549e-05, 2.00503882e-05, 1.95935688e-05, 1.93440289e-05,\n",
       "       1.87560085e-05, 1.84932469e-05, 1.82675933e-05, 1.79969790e-05,\n",
       "       1.78418669e-05, 1.73314595e-05, 1.72753412e-05, 1.68105758e-05,\n",
       "       1.67303840e-05, 1.63247324e-05, 1.62064938e-05, 1.58207813e-05,\n",
       "       1.55122436e-05, 1.51719676e-05, 1.48559521e-05, 1.45592378e-05,\n",
       "       1.44258275e-05, 1.40191580e-05, 1.36970810e-05, 1.34714631e-05,\n",
       "       1.33073160e-05, 1.30226295e-05, 1.28483223e-05, 1.25200245e-05,\n",
       "       1.23393346e-05, 1.20039240e-05, 1.18604849e-05, 1.17221520e-05,\n",
       "       1.16145010e-05, 1.12863710e-05, 1.11954799e-05, 1.08598189e-05,\n",
       "       1.06661547e-05, 1.05190362e-05, 1.03123423e-05, 1.00875165e-05,\n",
       "       9.93822050e-06, 9.78086738e-06, 9.71634074e-06, 9.44672512e-06,\n",
       "       9.14796945e-06, 9.11035344e-06, 8.86483708e-06, 8.68657881e-06,\n",
       "       8.50876300e-06, 8.40531394e-06, 8.27748645e-06, 8.10759224e-06,\n",
       "       7.87027938e-06, 7.82853330e-06, 7.73647945e-06, 7.61874569e-06,\n",
       "       7.49316350e-06, 7.30998796e-06, 7.17762077e-06, 7.06803272e-06,\n",
       "       6.91344342e-06, 6.76238661e-06, 6.64781993e-06, 6.51461894e-06,\n",
       "       6.29117643e-06, 6.26085592e-06, 6.15827987e-06, 6.13001926e-06,\n",
       "       5.94263407e-06, 5.91554365e-06, 5.78136681e-06, 5.64151509e-06,\n",
       "       5.47591337e-06, 5.32572393e-06, 5.25925613e-06, 5.13054778e-06,\n",
       "       4.98111927e-06, 4.87828735e-06, 4.73690813e-06, 4.67745201e-06,\n",
       "       4.63475551e-06, 4.56313926e-06, 4.47924459e-06, 4.37837117e-06,\n",
       "       4.29083381e-06, 4.25824418e-06, 4.16869344e-06, 4.10559899e-06,\n",
       "       4.05380708e-06, 3.97723084e-06, 3.81457676e-06, 3.78611983e-06,\n",
       "       3.74526203e-06, 3.64985157e-06, 3.56162360e-06, 3.47761313e-06,\n",
       "       3.41644885e-06, 3.36405020e-06, 3.21747909e-06, 3.17304877e-06,\n",
       "       3.14709049e-06, 3.11688510e-06, 3.01634224e-06, 2.92522882e-06,\n",
       "       2.84761844e-06, 2.81695208e-06, 2.71005380e-06, 2.67777218e-06,\n",
       "       2.65160320e-06, 2.57601217e-06, 2.45809272e-06, 2.44226799e-06,\n",
       "       2.41771410e-06, 2.35230790e-06, 2.33895076e-06, 2.32688183e-06,\n",
       "       2.24644339e-06, 2.17473063e-06, 2.14308000e-06, 2.11332255e-06,\n",
       "       2.10125601e-06, 1.95609229e-06, 1.94076799e-06, 1.89535419e-06,\n",
       "       1.86049045e-06, 1.82140495e-06, 1.79005158e-06, 1.76023720e-06,\n",
       "       1.72388801e-06, 1.70778480e-06, 1.64020764e-06, 1.62369148e-06,\n",
       "       1.58120643e-06, 1.57248355e-06, 1.49730841e-06, 1.47496700e-06,\n",
       "       1.45327095e-06, 1.40093939e-06, 1.37581029e-06, 1.33045258e-06,\n",
       "       1.28595651e-06, 1.25071636e-06, 1.24145814e-06, 1.20313915e-06,\n",
       "       1.17699106e-06, 1.14183683e-06, 1.11594557e-06, 1.07850657e-06,\n",
       "       1.06408430e-06, 1.04397574e-06, 1.01028589e-06, 9.81990019e-07,\n",
       "       9.60637942e-07, 9.33407714e-07, 9.01363491e-07, 8.94319363e-07,\n",
       "       8.74567800e-07, 8.44771554e-07, 8.27311680e-07, 8.12375998e-07,\n",
       "       8.00925157e-07, 7.40078928e-07, 7.35720303e-07, 7.17560512e-07,\n",
       "       6.95988806e-07, 6.58911960e-07, 6.47391371e-07, 6.38302293e-07,\n",
       "       6.20940009e-07, 5.93978599e-07, 5.82429997e-07, 5.69764064e-07,\n",
       "       5.49923759e-07, 5.44882752e-07, 5.21020476e-07, 5.12865760e-07,\n",
       "       4.88462973e-07, 4.78743253e-07, 4.65667315e-07, 4.50541005e-07,\n",
       "       4.41516415e-07, 4.21960524e-07, 4.12519048e-07, 3.93337293e-07,\n",
       "       3.72929525e-07, 3.68856778e-07, 3.58084576e-07, 3.36540770e-07,\n",
       "       3.32621941e-07, 3.26472153e-07, 3.05536022e-07, 2.95133158e-07,\n",
       "       2.93465433e-07, 2.78855413e-07, 2.66973102e-07, 2.56174401e-07,\n",
       "       2.47707937e-07, 2.36298920e-07, 2.33861467e-07, 2.24800299e-07,\n",
       "       2.17953591e-07, 2.11877966e-07, 2.07400201e-07, 1.99212548e-07])"
      ]
     },
     "execution_count": 79,
     "metadata": {},
     "output_type": "execute_result"
    }
   ],
   "source": [
    "pca.explained_variance_ratio_"
   ]
  }
 ],
 "metadata": {
  "kernelspec": {
   "display_name": "Python 3 (ipykernel)",
   "language": "python",
   "name": "python3"
  },
  "language_info": {
   "codemirror_mode": {
    "name": "ipython",
    "version": 3
   },
   "file_extension": ".py",
   "mimetype": "text/x-python",
   "name": "python",
   "nbconvert_exporter": "python",
   "pygments_lexer": "ipython3",
   "version": "3.9.7"
  }
 },
 "nbformat": 4,
 "nbformat_minor": 5
}
