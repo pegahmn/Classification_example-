{
 "cells": [
  {
   "cell_type": "code",
   "execution_count": 1,
   "id": "b9932f03",
   "metadata": {},
   "outputs": [],
   "source": [
    "import pandas as pd\n",
    "import numpy as np \n",
    "\n",
    "from sklearn import datasets, svm\n",
    "from sklearn.preprocessing import StandardScaler\n",
    "from sklearn.metrics import confusion_matrix, accuracy_score, recall_score, f1_score, precision_score\n",
    "from sklearn.tree import DecisionTreeClassifier\n",
    "from sklearn.ensemble import RandomForestClassifier\n",
    "from sklearn.neighbors import KNeighborsClassifier\n",
    "\n",
    "from sklearn.model_selection import cross_val_score, train_test_split, cross_validate \n"
   ]
  },
  {
   "cell_type": "code",
   "execution_count": 4,
   "id": "33eb8878",
   "metadata": {},
   "outputs": [],
   "source": [
    "risk=pd.read_csv(r\"C:\\Users\\rcc\\Desktop\\Courses\\Data Science\\DataMining\\Maternal Health Risk Data Set.csv\")\n",
    "#risk"
   ]
  },
  {
   "cell_type": "code",
   "execution_count": 28,
   "id": "6f6935ae",
   "metadata": {
    "scrolled": true
   },
   "outputs": [
    {
     "data": {
      "text/plain": [
       "\"\\ndt_cross_val = cross_validate(DT, X_train, y_train, cv=10, scoring='accuracy', return_train_score=True, return_estimator=True)\\nknn_cross_val = cross_validate(knn, X_train, y_train, cv=10, scoring='accuracy')\\nsvm_cross_val = cross_validate(clf, X_train, y_train, cv=10, scoring='accuracy')\\nrandf_cross_val = cross_validate(randomf, X_train, y_train, cv=10, scoring='accuracy')\\n\""
      ]
     },
     "execution_count": 28,
     "metadata": {},
     "output_type": "execute_result"
    }
   ],
   "source": [
    "risk=risk.replace(['low risk', 'mid risk', 'high risk'], [0, 1, 2]) #encoding\n",
    "scaler=StandardScaler()\n",
    "X_scale=scaler.fit_transform(risk.drop(['RiskLevel'], axis=1))\n",
    "                           \n",
    "X_train, X_test, y_train, y_test=train_test_split(X_scale, risk['RiskLevel'], test_size=0.3, shuffle =True)\n",
    "\n",
    "\n",
    "\n",
    "DT=DecisionTreeClassifier()\n",
    "knn=KNeighborsClassifier(n_neighbors=1)\n",
    "clf=svm.SVC()\n",
    "randomf=RandomForestClassifier()\n",
    "\n",
    "dt_cross_val_score = cross_val_score(DT, X_train, y_train, cv=10, scoring='accuracy').mean()\n",
    "knn_cross_val_score = cross_val_score(knn, X_train, y_train, cv=10, scoring='accuracy').mean()\n",
    "svm_cross_val_score = cross_val_score(clf, X_train, y_train, cv=10, scoring='accuracy').mean()\n",
    "randf_cross_val_score = cross_val_score(randomf, X_train, y_train, cv=10, scoring='accuracy').mean()\n",
    "\n",
    "\n",
    "'''\n",
    "dt_cross_val = cross_validate(DT, X_train, y_train, cv=10, scoring='accuracy', return_train_score=True, return_estimator=True)\n",
    "knn_cross_val = cross_validate(knn, X_train, y_train, cv=10, scoring='accuracy')\n",
    "svm_cross_val = cross_validate(clf, X_train, y_train, cv=10, scoring='accuracy')\n",
    "randf_cross_val = cross_validate(randomf, X_train, y_train, cv=10, scoring='accuracy')\n",
    "'''\n"
   ]
  },
  {
   "cell_type": "markdown",
   "id": "2ccbb805",
   "metadata": {},
   "source": [
    "print('DecisionTree : ', dt_cross_val_score)\n",
    "print('KNeighbors : ', knn_cross_val_score)\n",
    "print('SVM : ', svm_cross_val_score)\n",
    "print('Random Forest : ', randf_cross_val_score)"
   ]
  },
  {
   "cell_type": "code",
   "execution_count": 29,
   "id": "1592e21d",
   "metadata": {
    "scrolled": true
   },
   "outputs": [
    {
     "name": "stdout",
     "output_type": "stream",
     "text": [
      "DecisionTree :  0.9081967213114754\n"
     ]
    }
   ],
   "source": [
    "best_dt=dt_cross_val['estimator'][dt_cross_val['test_score'].argmax()]\n",
    "\n",
    "pr_y_dtt=best_dt.predict(X_test)\n",
    "dt_score=accuracy_score(y_test, pr_y_dtt)\n",
    "print('DecisionTree : ', dt_score)"
   ]
  },
  {
   "cell_type": "code",
   "execution_count": 30,
   "id": "d6e90de0",
   "metadata": {},
   "outputs": [
    {
     "name": "stdout",
     "output_type": "stream",
     "text": [
      "DecisionTree :  0.8163934426229508\n"
     ]
    }
   ],
   "source": [
    "model_dt=DT.fit(X_train, y_train)\n",
    "pr_y_dt=model_dt.predict(X_test)\n",
    "dt_score=accuracy_score(y_test, pr_y_dt)\n",
    "print('DecisionTree : ', dt_score)"
   ]
  },
  {
   "cell_type": "code",
   "execution_count": 31,
   "id": "5316e0fa",
   "metadata": {},
   "outputs": [
    {
     "name": "stdout",
     "output_type": "stream",
     "text": [
      "KNeighbors :  0.8262295081967214\n"
     ]
    }
   ],
   "source": [
    "model_knn=knn.fit(X_train, y_train)\n",
    "pr_y_knn=model_knn.predict(X_test)\n",
    "knn_score=accuracy_score(y_test, pr_y_knn)\n",
    "print('KNeighbors : ', knn_score)"
   ]
  },
  {
   "cell_type": "code",
   "execution_count": 32,
   "id": "4d8ac049",
   "metadata": {
    "scrolled": true
   },
   "outputs": [
    {
     "name": "stdout",
     "output_type": "stream",
     "text": [
      "SVM :  0.6721311475409836\n"
     ]
    }
   ],
   "source": [
    "model_clf=clf.fit(X_train, y_train)\n",
    "pr_y_clf=model_clf.predict(X_test)\n",
    "svm_score=accuracy_score(y_test, pr_y_clf)\n",
    "print('SVM : ', svm_score)"
   ]
  },
  {
   "cell_type": "code",
   "execution_count": 33,
   "id": "9b960e4d",
   "metadata": {},
   "outputs": [
    {
     "name": "stdout",
     "output_type": "stream",
     "text": [
      "Random Forest :  0.8459016393442623\n"
     ]
    }
   ],
   "source": [
    "model_f=randomf.fit(X_train, y_train)\n",
    "pr_y_f=model_f.predict(X_test)\n",
    "randf_score=accuracy_score(y_test, pr_y_f)\n",
    "print('Random Forest : ', randf_score)"
   ]
  },
  {
   "cell_type": "code",
   "execution_count": 34,
   "id": "8e9fcd75",
   "metadata": {},
   "outputs": [
    {
     "name": "stdout",
     "output_type": "stream",
     "text": [
      "+---------------+--------------------+--------------------+\n",
      "|     Model     |        Test        |  Cross Validation  |\n",
      "+---------------+--------------------+--------------------+\n",
      "| Decision Tree | 0.8163934426229508 | 0.788430583501006  |\n",
      "|   KNeighbors  | 0.8262295081967214 | 0.7742655935613681 |\n",
      "|      SVM      | 0.6721311475409836 | 0.7051509054325955 |\n",
      "| Random Forest | 0.8459016393442623 |  0.79261569416499  |\n",
      "+---------------+--------------------+--------------------+\n"
     ]
    }
   ],
   "source": [
    "from prettytable import PrettyTable\n",
    "\n",
    "mytable=PrettyTable([\"Model\", \"Test\", \"Cross Validation\"])\n",
    "\n",
    "mytable.add_row([\"Decision Tree\", dt_score, dt_cross_val_score]) #Decision Tree\n",
    "mytable.add_row([\"KNeighbors\", knn_score, knn_cross_val_score]) #Knn\n",
    "mytable.add_row([\"SVM\", svm_score, svm_cross_val_score]) #SVM\n",
    "mytable.add_row([\"Random Forest\", randf_score, randf_cross_val_score]) #Random Forest\n",
    "\n",
    "print(mytable)"
   ]
  },
  {
   "cell_type": "code",
   "execution_count": null,
   "id": "4f643178",
   "metadata": {},
   "outputs": [],
   "source": []
  }
 ],
 "metadata": {
  "kernelspec": {
   "display_name": "Python 3 (ipykernel)",
   "language": "python",
   "name": "python3"
  },
  "language_info": {
   "codemirror_mode": {
    "name": "ipython",
    "version": 3
   },
   "file_extension": ".py",
   "mimetype": "text/x-python",
   "name": "python",
   "nbconvert_exporter": "python",
   "pygments_lexer": "ipython3",
   "version": "3.9.7"
  }
 },
 "nbformat": 4,
 "nbformat_minor": 5
}
